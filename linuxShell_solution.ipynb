{
 "cells": [
  {
   "cell_type": "markdown",
   "metadata": {},
   "source": [
    "## Linux Shell Commands\n"
   ]
  },
  {
   "cell_type": "markdown",
   "metadata": {},
   "source": [
    "### What are the differences between the following  commands?\n",
    "#### ls\n",
    "<span style=\"color: green;\"> ls is used to know what files are in your current directory. <span>\n",
    "#### ls -a\n",
    "<span style=\"color: green;\"> ls -a is used to display hidden files. <span>\n",
    "#### ls -a -l\n",
    "<span style=\"color: green;\"> ls -a -1 is used to display the files (including the hidden one) in long format. <span>\n",
    "### Is there any difference between ls -a -l and ls -al. Why?\n",
    "<span style=\"color: green;\"> There is no difference. Because the arguments of a command can be combined. <span>\n"
   ]
  },
  {
   "cell_type": "markdown",
   "metadata": {},
   "source": [
    "\n",
    "###  What command clears the contents of your terminal display? \n",
    "\n",
    "<span style=\"color: green;\"> clear <span>\n",
    "### What is the default directory path for system log files?\n",
    "    \n",
    "<span style=\"color: green;\"> /var/log<span>\n",
    "### What command is used to get the ip address of all interfaces on a server?\n",
    "    \n",
    "<span style=\"color: green;\"> Ipconfig<span>\n",
    "### What command and parameter (or switch) will force a program to quit (even one running in the background)?\n",
    "    \n",
    "<span style=\"color: green;\"> kill<span>\n",
    "### What command is used to change ownership of a file?\n",
    "    \n",
    "<span style=\"color: green;\"> chmod<span>\n",
    "### What command(s) shows you disk partitions and percentage of disk space used?\n",
    "    \n",
    "<span style=\"color: green;\"> df du <span>\n",
    "### What command displays your current username?\n",
    "    \n",
    "<span style=\"color: green;\"> whoami<span>\n",
    "### What command allows you to open and view a file one page at a time?\n",
    "    \n",
    "<span style=\"color: green;\"> less more<span>\n",
    "### What command is used to change a file name?\n",
    "    \n",
    "<span style=\"color: green;\"> mv<span>\n",
    "### What is the command to switch to the root user account?\n",
    "    \n",
    "<span style=\"color: green;\"> su <span>\n",
    "### What command is used to display your previous commands?\n",
    "    \n",
    "<span style=\"color: green;\"> history<span>\n",
    "### What is the command to run a program with elevated permissions?\n",
    "    \n",
    "<span style=\"color: green;\"> sudo<span>\n",
    "### what command is used to count count the total number of lines, words and character in a file?\n",
    "    \n",
    "<span style=\"color: green;\"> wc<span>\n",
    "###  What command is used to add printing jobs to the queue? \n",
    "<span style=\"color: green;\">lpc<span>"
   ]
  },
  {
   "cell_type": "markdown",
   "metadata": {},
   "source": [
    "## Below are the essential command line tools for a data scientist . Use each command and explain what it does."
   ]
  },
  {
   "cell_type": "markdown",
   "metadata": {},
   "source": [
    "### wget\n",
    "<span style=\"color: green;\">used downloading files from the internet<span>\n",
    "### curl\n",
    "<span style=\"color: green;\">used for transfering data from or to a server. Designed to work without user interaction<span>\n",
    "### head\n",
    "<span style=\"color: green;\">used for outputting the first part of the files given to it via standard input<span>\n",
    "### tail\n",
    "<span style=\"color: green;\">used for outputting the first part of the files given to it via standard input<span>\n",
    "### find \n",
    "<span style=\"color: green;\">used to search and locate the list of files and directories. It depends on conditions you specify for files that match the arguments (owners/groups, time and date, size, permissions).<span>\n",
    "### cut\n",
    "<span style=\"color: green;\">used to extract sections from each line of input — usually from a file<span>\n",
    "### uniq\n",
    "<span style=\"color: green;\"> used to report or filter out the repeated lines in a file. It also deletes the duplicate lines<span>\n",
    "### grep\n",
    "<span style=\"color: green;\"> used to process text line by line and print any lines which match a specified pattern<span>"
   ]
  },
  {
   "cell_type": "markdown",
   "metadata": {},
   "source": [
    "## Q1. download a file from the given link and save it as iris.data"
   ]
  },
  {
   "cell_type": "markdown",
   "metadata": {},
   "source": [
    "### Below we will put the above commands to use with the help of the iris.data "
   ]
  },
  {
   "cell_type": "code",
   "execution_count": 1,
   "metadata": {},
   "outputs": [
    {
     "name": "stdout",
     "output_type": "stream",
     "text": [
      "02-Milestone Project 2 - Walkthrough Steps Workbook-wf.ipynb\n",
      "Assignment_1_solution.ipynb\n",
      "Data_tidyData\n",
      "Dataset.zip\n",
      "Lin_alg-solution.ipynb\n",
      "LinuxShell_Assignment.ipynb\n",
      "Numpy_basic_solutions.ipynb\n",
      "Numpy_ex2_data_analysis_solution.ipynb\n",
      "Pandas\n",
      "Tic-tac-toe.ipynb\n",
      "Tic-tac-toe_solution.ipynb\n",
      "Trials_book.ipynb\n",
      "archive.ics.uci.edu\n",
      "assignment1.ipynb\n",
      "assignment3_solution.ipynb\n",
      "assignment_2_solution.ipynb\n",
      "assignment_4_solution.ipynb\n",
      "assignment_5_solution.ipynb\n",
      "assignment_6_solution.ipynb\n",
      "assignment_Faluke.ipynb\n",
      "assignment_oop_solution.ipynb\n",
      "black_jack_solution.ipynb\n",
      "dataAnalysisNumpy.ipynb\n",
      "dow_jones_index\n",
      "dow_jones_index.data\n",
      "dow_jones_index.zip\n",
      "iris.data\n",
      "iris2.data\n",
      "linuxShell_solution.ipynb\n",
      "myfirstMarkdown.ipynb\n",
      "peterngolobe_aboutYourself.md\n",
      "regrex_assignment_solutions.ipynb\n"
     ]
    }
   ],
   "source": [
    "!ls"
   ]
  },
  {
   "cell_type": "markdown",
   "metadata": {},
   "source": [
    "### Q2. print the fist and last 5 lines in the file iris.data"
   ]
  },
  {
   "cell_type": "code",
   "execution_count": 12,
   "metadata": {},
   "outputs": [
    {
     "name": "stdout",
     "output_type": "stream",
     "text": [
      "5.1,3.5,1.4,0.2,Iris-setosa\n",
      "4.9,3.0,1.4,0.2,Iris-setosa\n",
      "4.7,3.2,1.3,0.2,Iris-setosa\n",
      "4.6,3.1,1.5,0.2,Iris-setosa\n",
      "5.0,3.6,1.4,0.2,Iris-setosa\n"
     ]
    }
   ],
   "source": [
    "!head -n5 iris.data"
   ]
  },
  {
   "cell_type": "code",
   "execution_count": 22,
   "metadata": {},
   "outputs": [
    {
     "name": "stdout",
     "output_type": "stream",
     "text": [
      "-rw-r--r-- 1 SPN None 4551 May 14 07:59 iris.data\n"
     ]
    }
   ],
   "source": [
    "!ls -l iris.data #size of a file"
   ]
  },
  {
   "cell_type": "code",
   "execution_count": 13,
   "metadata": {},
   "outputs": [
    {
     "name": "stdout",
     "output_type": "stream",
     "text": [
      "6.3,2.5,5.0,1.9,Iris-virginica\n",
      "6.5,3.0,5.2,2.0,Iris-virginica\n",
      "6.2,3.4,5.4,2.3,Iris-virginica\n",
      "5.9,3.0,5.1,1.8,Iris-virginica\n",
      "\n"
     ]
    }
   ],
   "source": [
    "!tail -5 iris.data"
   ]
  },
  {
   "cell_type": "markdown",
   "metadata": {},
   "source": [
    "### Q3. extract the intermediate line (50-60).Hint: use piping with head and tail\n"
   ]
  },
  {
   "cell_type": "code",
   "execution_count": 14,
   "metadata": {},
   "outputs": [
    {
     "name": "stdout",
     "output_type": "stream",
     "text": [
      "7.0,3.2,4.7,1.4,Iris-versicolor\n",
      "6.4,3.2,4.5,1.5,Iris-versicolor\n",
      "6.9,3.1,4.9,1.5,Iris-versicolor\n",
      "5.5,2.3,4.0,1.3,Iris-versicolor\n",
      "6.5,2.8,4.6,1.5,Iris-versicolor\n",
      "5.7,2.8,4.5,1.3,Iris-versicolor\n",
      "6.3,3.3,4.7,1.6,Iris-versicolor\n",
      "4.9,2.4,3.3,1.0,Iris-versicolor\n",
      "6.6,2.9,4.6,1.3,Iris-versicolor\n",
      "5.2,2.7,3.9,1.4,Iris-versicolor\n"
     ]
    }
   ],
   "source": [
    "!head -n 60 iris.data | tail -n 10"
   ]
  },
  {
   "cell_type": "markdown",
   "metadata": {},
   "source": [
    "### Q4. count the number of rows"
   ]
  },
  {
   "cell_type": "code",
   "execution_count": 15,
   "metadata": {},
   "outputs": [
    {
     "name": "stdout",
     "output_type": "stream",
     "text": [
      "151 iris.data\n"
     ]
    }
   ],
   "source": [
    "!wc -l iris.data"
   ]
  },
  {
   "cell_type": "markdown",
   "metadata": {},
   "source": [
    "### Q.5 when you print the last 5 row you see only 4 because you have 1 blank line at the end of file. remove the line : hint: https://www.geeksforgeeks.org/sed-command-in-linux-unix-with-examples/"
   ]
  },
  {
   "cell_type": "code",
   "execution_count": 16,
   "metadata": {},
   "outputs": [],
   "source": [
    "!cp iris.data iris2.data"
   ]
  },
  {
   "cell_type": "code",
   "execution_count": 17,
   "metadata": {},
   "outputs": [
    {
     "name": "stdout",
     "output_type": "stream",
     "text": [
      "02-Milestone Project 2 - Walkthrough Steps Workbook-wf.ipynb\n",
      "Assignment_1_solution.ipynb\n",
      "Data_tidyData\n",
      "Dataset.zip\n",
      "Lin_alg-solution.ipynb\n",
      "LinuxShell_Assignment.ipynb\n",
      "Numpy_basic_solutions.ipynb\n",
      "Numpy_ex2_data_analysis_solution.ipynb\n",
      "Pandas\n",
      "Tic-tac-toe.ipynb\n",
      "Tic-tac-toe_solution.ipynb\n",
      "Trials_book.ipynb\n",
      "archive.ics.uci.edu\n",
      "assignment1.ipynb\n",
      "assignment3_solution.ipynb\n",
      "assignment_2_solution.ipynb\n",
      "assignment_4_solution.ipynb\n",
      "assignment_5_solution.ipynb\n",
      "assignment_6_solution.ipynb\n",
      "assignment_Faluke.ipynb\n",
      "assignment_oop_solution.ipynb\n",
      "black_jack_solution.ipynb\n",
      "dataAnalysisNumpy.ipynb\n",
      "dow_jones_index\n",
      "dow_jones_index.data\n",
      "dow_jones_index.zip\n",
      "iris.data\n",
      "iris2.data\n",
      "linuxShell_solution.ipynb\n",
      "myfirstMarkdown.ipynb\n",
      "peterngolobe_aboutYourself.md\n",
      "regrex_assignment_solutions.ipynb\n"
     ]
    }
   ],
   "source": [
    "!ls"
   ]
  },
  {
   "cell_type": "code",
   "execution_count": 18,
   "metadata": {},
   "outputs": [
    {
     "name": "stdout",
     "output_type": "stream",
     "text": [
      "6.7,3.0,5.2,2.3,Iris-virginica\n",
      "6.3,2.5,5.0,1.9,Iris-virginica\n",
      "6.5,3.0,5.2,2.0,Iris-virginica\n",
      "6.2,3.4,5.4,2.3,Iris-virginica\n",
      "5.9,3.0,5.1,1.8,Iris-virginica\n"
     ]
    }
   ],
   "source": [
    "!sed '$d' iris2.data | tail -n 5"
   ]
  },
  {
   "cell_type": "markdown",
   "metadata": {},
   "source": [
    "### Q.6 get the size of the file"
   ]
  },
  {
   "cell_type": "code",
   "execution_count": 19,
   "metadata": {},
   "outputs": [
    {
     "name": "stdout",
     "output_type": "stream",
     "text": [
      "8\tiris.data\n"
     ]
    }
   ],
   "source": [
    "!du iris.data"
   ]
  },
  {
   "cell_type": "markdown",
   "metadata": {},
   "source": [
    "### Q.7 extract the 4th and 5th column of the data hint: use cut"
   ]
  },
  {
   "cell_type": "code",
   "execution_count": 20,
   "metadata": {},
   "outputs": [
    {
     "name": "stdout",
     "output_type": "stream",
     "text": [
      "0.2,Iris-setosa\n",
      "0.2,Iris-setosa\n",
      "0.2,Iris-setosa\n",
      "0.2,Iris-setosa\n",
      "0.2,Iris-setosa\n",
      "0.4,Iris-setosa\n",
      "0.3,Iris-setosa\n",
      "0.2,Iris-setosa\n",
      "0.2,Iris-setosa\n",
      "0.1,Iris-setosa\n",
      "0.2,Iris-setosa\n",
      "0.2,Iris-setosa\n",
      "0.1,Iris-setosa\n",
      "0.1,Iris-setosa\n",
      "0.2,Iris-setosa\n",
      "0.4,Iris-setosa\n",
      "0.4,Iris-setosa\n",
      "0.3,Iris-setosa\n",
      "0.3,Iris-setosa\n",
      "0.3,Iris-setosa\n",
      "0.2,Iris-setosa\n",
      "0.4,Iris-setosa\n",
      "0.2,Iris-setosa\n",
      "0.5,Iris-setosa\n",
      "0.2,Iris-setosa\n",
      "0.2,Iris-setosa\n",
      "0.4,Iris-setosa\n",
      "0.2,Iris-setosa\n",
      "0.2,Iris-setosa\n",
      "0.2,Iris-setosa\n",
      "0.2,Iris-setosa\n",
      "0.4,Iris-setosa\n",
      "0.1,Iris-setosa\n",
      "0.2,Iris-setosa\n",
      "0.1,Iris-setosa\n",
      "0.2,Iris-setosa\n",
      "0.2,Iris-setosa\n",
      "0.1,Iris-setosa\n",
      "0.2,Iris-setosa\n",
      "0.2,Iris-setosa\n",
      "0.3,Iris-setosa\n",
      "0.3,Iris-setosa\n",
      "0.2,Iris-setosa\n",
      "0.6,Iris-setosa\n",
      "0.4,Iris-setosa\n",
      "0.3,Iris-setosa\n",
      "0.2,Iris-setosa\n",
      "0.2,Iris-setosa\n",
      "0.2,Iris-setosa\n",
      "0.2,Iris-setosa\n",
      "1.4,Iris-versicolor\n",
      "1.5,Iris-versicolor\n",
      "1.5,Iris-versicolor\n",
      "1.3,Iris-versicolor\n",
      "1.5,Iris-versicolor\n",
      "1.3,Iris-versicolor\n",
      "1.6,Iris-versicolor\n",
      "1.0,Iris-versicolor\n",
      "1.3,Iris-versicolor\n",
      "1.4,Iris-versicolor\n",
      "1.0,Iris-versicolor\n",
      "1.5,Iris-versicolor\n",
      "1.0,Iris-versicolor\n",
      "1.4,Iris-versicolor\n",
      "1.3,Iris-versicolor\n",
      "1.4,Iris-versicolor\n",
      "1.5,Iris-versicolor\n",
      "1.0,Iris-versicolor\n",
      "1.5,Iris-versicolor\n",
      "1.1,Iris-versicolor\n",
      "1.8,Iris-versicolor\n",
      "1.3,Iris-versicolor\n",
      "1.5,Iris-versicolor\n",
      "1.2,Iris-versicolor\n",
      "1.3,Iris-versicolor\n",
      "1.4,Iris-versicolor\n",
      "1.4,Iris-versicolor\n",
      "1.7,Iris-versicolor\n",
      "1.5,Iris-versicolor\n",
      "1.0,Iris-versicolor\n",
      "1.1,Iris-versicolor\n",
      "1.0,Iris-versicolor\n",
      "1.2,Iris-versicolor\n",
      "1.6,Iris-versicolor\n",
      "1.5,Iris-versicolor\n",
      "1.6,Iris-versicolor\n",
      "1.5,Iris-versicolor\n",
      "1.3,Iris-versicolor\n",
      "1.3,Iris-versicolor\n",
      "1.3,Iris-versicolor\n",
      "1.2,Iris-versicolor\n",
      "1.4,Iris-versicolor\n",
      "1.2,Iris-versicolor\n",
      "1.0,Iris-versicolor\n",
      "1.3,Iris-versicolor\n",
      "1.2,Iris-versicolor\n",
      "1.3,Iris-versicolor\n",
      "1.3,Iris-versicolor\n",
      "1.1,Iris-versicolor\n",
      "1.3,Iris-versicolor\n",
      "2.5,Iris-virginica\n",
      "1.9,Iris-virginica\n",
      "2.1,Iris-virginica\n",
      "1.8,Iris-virginica\n",
      "2.2,Iris-virginica\n",
      "2.1,Iris-virginica\n",
      "1.7,Iris-virginica\n",
      "1.8,Iris-virginica\n",
      "1.8,Iris-virginica\n",
      "2.5,Iris-virginica\n",
      "2.0,Iris-virginica\n",
      "1.9,Iris-virginica\n",
      "2.1,Iris-virginica\n",
      "2.0,Iris-virginica\n",
      "2.4,Iris-virginica\n",
      "2.3,Iris-virginica\n",
      "1.8,Iris-virginica\n",
      "2.2,Iris-virginica\n",
      "2.3,Iris-virginica\n",
      "1.5,Iris-virginica\n",
      "2.3,Iris-virginica\n",
      "2.0,Iris-virginica\n",
      "2.0,Iris-virginica\n",
      "1.8,Iris-virginica\n",
      "2.1,Iris-virginica\n",
      "1.8,Iris-virginica\n",
      "1.8,Iris-virginica\n",
      "1.8,Iris-virginica\n",
      "2.1,Iris-virginica\n",
      "1.6,Iris-virginica\n",
      "1.9,Iris-virginica\n",
      "2.0,Iris-virginica\n",
      "2.2,Iris-virginica\n",
      "1.5,Iris-virginica\n",
      "1.4,Iris-virginica\n",
      "2.3,Iris-virginica\n",
      "2.4,Iris-virginica\n",
      "1.8,Iris-virginica\n",
      "1.8,Iris-virginica\n",
      "2.1,Iris-virginica\n",
      "2.4,Iris-virginica\n",
      "2.3,Iris-virginica\n",
      "1.9,Iris-virginica\n",
      "2.3,Iris-virginica\n",
      "2.5,Iris-virginica\n",
      "2.3,Iris-virginica\n",
      "1.9,Iris-virginica\n",
      "2.0,Iris-virginica\n",
      "2.3,Iris-virginica\n",
      "1.8,Iris-virginica\n",
      "\n"
     ]
    }
   ],
   "source": [
    "!cut -d\",\" -f4-5 iris.data"
   ]
  },
  {
   "cell_type": "markdown",
   "metadata": {},
   "source": [
    "### Q.8 Once we extract a column using cut above, we use sort and uniq to print the counts for all unique values in the column"
   ]
  },
  {
   "cell_type": "code",
   "execution_count": 21,
   "metadata": {},
   "outputs": [
    {
     "name": "stdout",
     "output_type": "stream",
     "text": [
      "\n",
      "4.3,3.0,1.1,0.1,Iris-setosa\n",
      "4.4,2.9,1.4,0.2,Iris-setosa\n",
      "4.4,3.0,1.3,0.2,Iris-setosa\n",
      "4.4,3.2,1.3,0.2,Iris-setosa\n",
      "4.5,2.3,1.3,0.3,Iris-setosa\n",
      "4.6,3.1,1.5,0.2,Iris-setosa\n",
      "4.6,3.2,1.4,0.2,Iris-setosa\n",
      "4.6,3.4,1.4,0.3,Iris-setosa\n",
      "4.6,3.6,1.0,0.2,Iris-setosa\n",
      "4.7,3.2,1.3,0.2,Iris-setosa\n",
      "4.7,3.2,1.6,0.2,Iris-setosa\n",
      "4.8,3.0,1.4,0.1,Iris-setosa\n",
      "4.8,3.0,1.4,0.3,Iris-setosa\n",
      "4.8,3.1,1.6,0.2,Iris-setosa\n",
      "4.8,3.4,1.6,0.2,Iris-setosa\n",
      "4.8,3.4,1.9,0.2,Iris-setosa\n",
      "4.9,2.4,3.3,1.0,Iris-versicolor\n",
      "4.9,2.5,4.5,1.7,Iris-virginica\n",
      "4.9,3.0,1.4,0.2,Iris-setosa\n",
      "4.9,3.1,1.5,0.1,Iris-setosa\n",
      "5.0,2.0,3.5,1.0,Iris-versicolor\n",
      "5.0,2.3,3.3,1.0,Iris-versicolor\n",
      "5.0,3.0,1.6,0.2,Iris-setosa\n",
      "5.0,3.2,1.2,0.2,Iris-setosa\n",
      "5.0,3.3,1.4,0.2,Iris-setosa\n",
      "5.0,3.4,1.5,0.2,Iris-setosa\n",
      "5.0,3.4,1.6,0.4,Iris-setosa\n",
      "5.0,3.5,1.3,0.3,Iris-setosa\n",
      "5.0,3.5,1.6,0.6,Iris-setosa\n",
      "5.0,3.6,1.4,0.2,Iris-setosa\n",
      "5.1,2.5,3.0,1.1,Iris-versicolor\n",
      "5.1,3.3,1.7,0.5,Iris-setosa\n",
      "5.1,3.4,1.5,0.2,Iris-setosa\n",
      "5.1,3.5,1.4,0.2,Iris-setosa\n",
      "5.1,3.5,1.4,0.3,Iris-setosa\n",
      "5.1,3.7,1.5,0.4,Iris-setosa\n",
      "5.1,3.8,1.5,0.3,Iris-setosa\n",
      "5.1,3.8,1.6,0.2,Iris-setosa\n",
      "5.1,3.8,1.9,0.4,Iris-setosa\n",
      "5.2,2.7,3.9,1.4,Iris-versicolor\n",
      "5.2,3.4,1.4,0.2,Iris-setosa\n",
      "5.2,3.5,1.5,0.2,Iris-setosa\n",
      "5.2,4.1,1.5,0.1,Iris-setosa\n",
      "5.3,3.7,1.5,0.2,Iris-setosa\n",
      "5.4,3.0,4.5,1.5,Iris-versicolor\n",
      "5.4,3.4,1.5,0.4,Iris-setosa\n",
      "5.4,3.4,1.7,0.2,Iris-setosa\n",
      "5.4,3.7,1.5,0.2,Iris-setosa\n",
      "5.4,3.9,1.3,0.4,Iris-setosa\n",
      "5.4,3.9,1.7,0.4,Iris-setosa\n",
      "5.5,2.3,4.0,1.3,Iris-versicolor\n",
      "5.5,2.4,3.7,1.0,Iris-versicolor\n",
      "5.5,2.4,3.8,1.1,Iris-versicolor\n",
      "5.5,2.5,4.0,1.3,Iris-versicolor\n",
      "5.5,2.6,4.4,1.2,Iris-versicolor\n",
      "5.5,3.5,1.3,0.2,Iris-setosa\n",
      "5.5,4.2,1.4,0.2,Iris-setosa\n",
      "5.6,2.5,3.9,1.1,Iris-versicolor\n",
      "5.6,2.7,4.2,1.3,Iris-versicolor\n",
      "5.6,2.8,4.9,2.0,Iris-virginica\n",
      "5.6,2.9,3.6,1.3,Iris-versicolor\n",
      "5.6,3.0,4.1,1.3,Iris-versicolor\n",
      "5.6,3.0,4.5,1.5,Iris-versicolor\n",
      "5.7,2.5,5.0,2.0,Iris-virginica\n",
      "5.7,2.6,3.5,1.0,Iris-versicolor\n",
      "5.7,2.8,4.1,1.3,Iris-versicolor\n",
      "5.7,2.8,4.5,1.3,Iris-versicolor\n",
      "5.7,2.9,4.2,1.3,Iris-versicolor\n",
      "5.7,3.0,4.2,1.2,Iris-versicolor\n",
      "5.7,3.8,1.7,0.3,Iris-setosa\n",
      "5.7,4.4,1.5,0.4,Iris-setosa\n",
      "5.8,2.6,4.0,1.2,Iris-versicolor\n",
      "5.8,2.7,3.9,1.2,Iris-versicolor\n",
      "5.8,2.7,4.1,1.0,Iris-versicolor\n",
      "5.8,2.7,5.1,1.9,Iris-virginica\n",
      "5.8,2.8,5.1,2.4,Iris-virginica\n",
      "5.8,4.0,1.2,0.2,Iris-setosa\n",
      "5.9,3.0,4.2,1.5,Iris-versicolor\n",
      "5.9,3.0,5.1,1.8,Iris-virginica\n",
      "5.9,3.2,4.8,1.8,Iris-versicolor\n",
      "6.0,2.2,4.0,1.0,Iris-versicolor\n",
      "6.0,2.2,5.0,1.5,Iris-virginica\n",
      "6.0,2.7,5.1,1.6,Iris-versicolor\n",
      "6.0,2.9,4.5,1.5,Iris-versicolor\n",
      "6.0,3.0,4.8,1.8,Iris-virginica\n",
      "6.0,3.4,4.5,1.6,Iris-versicolor\n",
      "6.1,2.6,5.6,1.4,Iris-virginica\n",
      "6.1,2.8,4.0,1.3,Iris-versicolor\n",
      "6.1,2.8,4.7,1.2,Iris-versicolor\n",
      "6.1,2.9,4.7,1.4,Iris-versicolor\n",
      "6.1,3.0,4.6,1.4,Iris-versicolor\n",
      "6.1,3.0,4.9,1.8,Iris-virginica\n",
      "6.2,2.2,4.5,1.5,Iris-versicolor\n",
      "6.2,2.8,4.8,1.8,Iris-virginica\n",
      "6.2,2.9,4.3,1.3,Iris-versicolor\n",
      "6.2,3.4,5.4,2.3,Iris-virginica\n",
      "6.3,2.3,4.4,1.3,Iris-versicolor\n",
      "6.3,2.5,4.9,1.5,Iris-versicolor\n",
      "6.3,2.5,5.0,1.9,Iris-virginica\n",
      "6.3,2.7,4.9,1.8,Iris-virginica\n",
      "6.3,2.8,5.1,1.5,Iris-virginica\n",
      "6.3,2.9,5.6,1.8,Iris-virginica\n",
      "6.3,3.3,4.7,1.6,Iris-versicolor\n",
      "6.3,3.3,6.0,2.5,Iris-virginica\n",
      "6.3,3.4,5.6,2.4,Iris-virginica\n",
      "6.4,2.7,5.3,1.9,Iris-virginica\n",
      "6.4,2.8,5.6,2.1,Iris-virginica\n",
      "6.4,2.8,5.6,2.2,Iris-virginica\n",
      "6.4,2.9,4.3,1.3,Iris-versicolor\n",
      "6.4,3.1,5.5,1.8,Iris-virginica\n",
      "6.4,3.2,4.5,1.5,Iris-versicolor\n",
      "6.4,3.2,5.3,2.3,Iris-virginica\n",
      "6.5,2.8,4.6,1.5,Iris-versicolor\n",
      "6.5,3.0,5.2,2.0,Iris-virginica\n",
      "6.5,3.0,5.5,1.8,Iris-virginica\n",
      "6.5,3.0,5.8,2.2,Iris-virginica\n",
      "6.5,3.2,5.1,2.0,Iris-virginica\n",
      "6.6,2.9,4.6,1.3,Iris-versicolor\n",
      "6.6,3.0,4.4,1.4,Iris-versicolor\n",
      "6.7,2.5,5.8,1.8,Iris-virginica\n",
      "6.7,3.0,5.0,1.7,Iris-versicolor\n",
      "6.7,3.0,5.2,2.3,Iris-virginica\n",
      "6.7,3.1,4.4,1.4,Iris-versicolor\n",
      "6.7,3.1,4.7,1.5,Iris-versicolor\n",
      "6.7,3.1,5.6,2.4,Iris-virginica\n",
      "6.7,3.3,5.7,2.1,Iris-virginica\n",
      "6.7,3.3,5.7,2.5,Iris-virginica\n",
      "6.8,2.8,4.8,1.4,Iris-versicolor\n",
      "6.8,3.0,5.5,2.1,Iris-virginica\n",
      "6.8,3.2,5.9,2.3,Iris-virginica\n",
      "6.9,3.1,4.9,1.5,Iris-versicolor\n",
      "6.9,3.1,5.1,2.3,Iris-virginica\n",
      "6.9,3.1,5.4,2.1,Iris-virginica\n",
      "6.9,3.2,5.7,2.3,Iris-virginica\n",
      "7.0,3.2,4.7,1.4,Iris-versicolor\n",
      "7.1,3.0,5.9,2.1,Iris-virginica\n",
      "7.2,3.0,5.8,1.6,Iris-virginica\n",
      "7.2,3.2,6.0,1.8,Iris-virginica\n",
      "7.2,3.6,6.1,2.5,Iris-virginica\n",
      "7.3,2.9,6.3,1.8,Iris-virginica\n",
      "7.4,2.8,6.1,1.9,Iris-virginica\n",
      "7.6,3.0,6.6,2.1,Iris-virginica\n",
      "7.7,2.6,6.9,2.3,Iris-virginica\n",
      "7.7,2.8,6.7,2.0,Iris-virginica\n",
      "7.7,3.0,6.1,2.3,Iris-virginica\n",
      "7.7,3.8,6.7,2.2,Iris-virginica\n",
      "7.9,3.8,6.4,2.0,Iris-virginica\n"
     ]
    }
   ],
   "source": [
    "!sort iris.data | uniq"
   ]
  },
  {
   "cell_type": "code",
   "execution_count": null,
   "metadata": {},
   "outputs": [],
   "source": []
  }
 ],
 "metadata": {
  "kernelspec": {
   "display_name": "Python 3",
   "language": "python",
   "name": "python3"
  },
  "language_info": {
   "codemirror_mode": {
    "name": "ipython",
    "version": 3
   },
   "file_extension": ".py",
   "mimetype": "text/x-python",
   "name": "python",
   "nbconvert_exporter": "python",
   "pygments_lexer": "ipython3",
   "version": "3.7.6"
  },
  "varInspector": {
   "cols": {
    "lenName": 16,
    "lenType": 16,
    "lenVar": 40
   },
   "kernels_config": {
    "python": {
     "delete_cmd_postfix": "",
     "delete_cmd_prefix": "del ",
     "library": "var_list.py",
     "varRefreshCmd": "print(var_dic_list())"
    },
    "r": {
     "delete_cmd_postfix": ") ",
     "delete_cmd_prefix": "rm(",
     "library": "var_list.r",
     "varRefreshCmd": "cat(var_dic_list()) "
    }
   },
   "types_to_exclude": [
    "module",
    "function",
    "builtin_function_or_method",
    "instance",
    "_Feature"
   ],
   "window_display": false
  }
 },
 "nbformat": 4,
 "nbformat_minor": 4
}
